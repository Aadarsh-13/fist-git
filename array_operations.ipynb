{
  "cells": [
    {
      "cell_type": "code",
      "execution_count": 1,
      "id": "8dec8ebf-3860-4b3d-9724-896d9e32ba5d",
      "metadata": {
        "id": "8dec8ebf-3860-4b3d-9724-896d9e32ba5d"
      },
      "outputs": [],
      "source": [
        "import numpy as np"
      ]
    },
    {
      "cell_type": "markdown",
      "id": "25334a21-5e1d-4671-8c95-ededf670dcda",
      "metadata": {
        "id": "25334a21-5e1d-4671-8c95-ededf670dcda"
      },
      "source": [
        "****ARRAY OPERATIONS****"
      ]
    },
    {
      "cell_type": "markdown",
      "id": "2d849255-f8e2-4513-9ca5-6fe32c418a14",
      "metadata": {
        "id": "2d849255-f8e2-4513-9ca5-6fe32c418a14"
      },
      "source": [
        "*Arithmetic operations*"
      ]
    },
    {
      "cell_type": "code",
      "execution_count": 2,
      "id": "12762a5a-5590-4d72-8bb7-042370671858",
      "metadata": {
        "id": "12762a5a-5590-4d72-8bb7-042370671858"
      },
      "outputs": [],
      "source": [
        "a1 = np.array([1,2,3,4,5])\n",
        "a2 = np.array([6,7,8,9,10])"
      ]
    },
    {
      "cell_type": "code",
      "execution_count": null,
      "id": "f7c070e8-824b-46d1-847c-7ee14889e7bb",
      "metadata": {
        "id": "f7c070e8-824b-46d1-847c-7ee14889e7bb",
        "outputId": "81b1abd4-dc18-426e-e1f2-6bc1bed2c0a4"
      },
      "outputs": [
        {
          "data": {
            "text/plain": [
              "array([ 7,  9, 11, 13, 15])"
            ]
          },
          "execution_count": 149,
          "metadata": {},
          "output_type": "execute_result"
        }
      ],
      "source": [
        "a1 + a2"
      ]
    },
    {
      "cell_type": "code",
      "execution_count": null,
      "id": "99a4afef-1d59-4be2-805e-3c22efb10529",
      "metadata": {
        "id": "99a4afef-1d59-4be2-805e-3c22efb10529",
        "outputId": "a1dd88cc-2758-4375-cee7-a9a6170b21df"
      },
      "outputs": [
        {
          "data": {
            "text/plain": [
              "array([-5, -5, -5, -5, -5])"
            ]
          },
          "execution_count": 151,
          "metadata": {},
          "output_type": "execute_result"
        }
      ],
      "source": [
        "a1 -a2"
      ]
    },
    {
      "cell_type": "code",
      "execution_count": null,
      "id": "dd393208-3e1b-4687-acb7-03994ad66d41",
      "metadata": {
        "id": "dd393208-3e1b-4687-acb7-03994ad66d41",
        "outputId": "ea5ba01b-25c1-47f3-eb05-66309cca1c4a"
      },
      "outputs": [
        {
          "data": {
            "text/plain": [
              "array([ 6, 14, 24, 36, 50])"
            ]
          },
          "execution_count": 153,
          "metadata": {},
          "output_type": "execute_result"
        }
      ],
      "source": [
        "a1 * a2"
      ]
    },
    {
      "cell_type": "code",
      "execution_count": null,
      "id": "3ae65ff4-de80-4e47-a61d-0dcac8cb0910",
      "metadata": {
        "id": "3ae65ff4-de80-4e47-a61d-0dcac8cb0910",
        "outputId": "12c217c9-0ad9-4cb9-b1fc-3dd2bfbeefba"
      },
      "outputs": [
        {
          "data": {
            "text/plain": [
              "array([0.16666667, 0.28571429, 0.375     , 0.44444444, 0.5       ])"
            ]
          },
          "execution_count": 155,
          "metadata": {},
          "output_type": "execute_result"
        }
      ],
      "source": [
        "a1 / a2"
      ]
    },
    {
      "cell_type": "code",
      "execution_count": null,
      "id": "cd90f1f6-1ce5-4b43-bbff-68863cccbe3c",
      "metadata": {
        "id": "cd90f1f6-1ce5-4b43-bbff-68863cccbe3c",
        "outputId": "18c8a5ba-ee62-41fc-fc3a-318ee0951d38"
      },
      "outputs": [
        {
          "data": {
            "text/plain": [
              "array([0, 0, 0, 0, 0])"
            ]
          },
          "execution_count": 157,
          "metadata": {},
          "output_type": "execute_result"
        }
      ],
      "source": [
        "a1 // a2"
      ]
    },
    {
      "cell_type": "code",
      "execution_count": null,
      "id": "0f440f86-0cf2-4313-bd6f-766712a5c535",
      "metadata": {
        "scrolled": true,
        "id": "0f440f86-0cf2-4313-bd6f-766712a5c535",
        "outputId": "5e93be05-0cc1-4f4c-ad54-09b560635e02"
      },
      "outputs": [
        {
          "data": {
            "text/plain": [
              "array([      1,     128,    6561,  262144, 9765625])"
            ]
          },
          "execution_count": 159,
          "metadata": {},
          "output_type": "execute_result"
        }
      ],
      "source": [
        "a1 ** a2"
      ]
    },
    {
      "cell_type": "code",
      "execution_count": null,
      "id": "16e9032c-03f5-4569-a5cf-56e60a4719c6",
      "metadata": {
        "id": "16e9032c-03f5-4569-a5cf-56e60a4719c6",
        "outputId": "33c971a4-83c6-4df8-ed87-d4b4f6c13097"
      },
      "outputs": [
        {
          "data": {
            "text/plain": [
              "array([[42, 44, 46, 48, 50],\n",
              "       [52, 54, 56, 58, 60],\n",
              "       [62, 64, 66, 68, 70],\n",
              "       [72, 74, 76, 78, 80],\n",
              "       [82, 84, 86, 88, 90]])"
            ]
          },
          "execution_count": 185,
          "metadata": {},
          "output_type": "execute_result"
        }
      ],
      "source": [
        "arr2 *2"
      ]
    },
    {
      "cell_type": "markdown",
      "id": "64538a4c-388a-4034-a5c9-1e29c0b1921e",
      "metadata": {
        "id": "64538a4c-388a-4034-a5c9-1e29c0b1921e"
      },
      "source": [
        "*Broadcasting*"
      ]
    },
    {
      "cell_type": "code",
      "execution_count": 3,
      "id": "576fa36c-2570-4ad2-bb13-0f346fdfd5bd",
      "metadata": {
        "id": "576fa36c-2570-4ad2-bb13-0f346fdfd5bd"
      },
      "outputs": [],
      "source": [
        "l = [10,20,30,40]\n",
        "arr = np.array(l)"
      ]
    },
    {
      "cell_type": "code",
      "execution_count": 4,
      "id": "6708a930-cb8a-4d0d-8328-605236c15313",
      "metadata": {
        "id": "6708a930-cb8a-4d0d-8328-605236c15313",
        "outputId": "7142d610-5877-40b9-a5c5-455a272b3e06",
        "colab": {
          "base_uri": "https://localhost:8080/"
        }
      },
      "outputs": [
        {
          "output_type": "execute_result",
          "data": {
            "text/plain": [
              "array([20, 30, 40, 50])"
            ]
          },
          "metadata": {},
          "execution_count": 4
        }
      ],
      "source": [
        "arr + 10"
      ]
    },
    {
      "cell_type": "code",
      "execution_count": null,
      "id": "d86cb710-4c12-4718-9b26-23a98da14a67",
      "metadata": {
        "id": "d86cb710-4c12-4718-9b26-23a98da14a67",
        "outputId": "603814b1-f9e7-449c-d644-ca6887869c61"
      },
      "outputs": [
        {
          "data": {
            "text/plain": [
              "array([[ 1,  2,  3,  4,  5],\n",
              "       [ 6,  7,  8,  9, 10],\n",
              "       [11, 12, 13, 14, 15],\n",
              "       [16, 17, 18, 19, 20],\n",
              "       [21, 22, 23, 24, 25]])"
            ]
          },
          "execution_count": 173,
          "metadata": {},
          "output_type": "execute_result"
        }
      ],
      "source": [
        "arr2 = np.arange(1,26).reshape(5,5)\n",
        "arr2"
      ]
    },
    {
      "cell_type": "code",
      "execution_count": null,
      "id": "07b898a7-a0e3-4cff-9026-856f260addbe",
      "metadata": {
        "scrolled": true,
        "id": "07b898a7-a0e3-4cff-9026-856f260addbe",
        "outputId": "45134e74-9f8f-4a64-f502-a1a2973a6900"
      },
      "outputs": [
        {
          "data": {
            "text/plain": [
              "array([[21, 22, 23, 24, 25],\n",
              "       [26, 27, 28, 29, 30],\n",
              "       [31, 32, 33, 34, 35],\n",
              "       [36, 37, 38, 39, 40],\n",
              "       [41, 42, 43, 44, 45]])"
            ]
          },
          "execution_count": 181,
          "metadata": {},
          "output_type": "execute_result"
        }
      ],
      "source": [
        "arr2 = arr2 + 10\n",
        "arr2"
      ]
    },
    {
      "cell_type": "code",
      "execution_count": null,
      "id": "9cdd1cfc-2266-4e45-82e0-da7ab51c7655",
      "metadata": {
        "id": "9cdd1cfc-2266-4e45-82e0-da7ab51c7655"
      },
      "outputs": [],
      "source": []
    },
    {
      "cell_type": "markdown",
      "id": "8d1d4c0f-3d0d-4088-93f9-4c9dc3907e9f",
      "metadata": {
        "id": "8d1d4c0f-3d0d-4088-93f9-4c9dc3907e9f"
      },
      "source": [
        "*Deep and Shallow copy*"
      ]
    },
    {
      "cell_type": "code",
      "execution_count": null,
      "id": "ed7abb95-3cf6-41a7-8f70-77072c6c03ec",
      "metadata": {
        "id": "ed7abb95-3cf6-41a7-8f70-77072c6c03ec",
        "outputId": "eda02137-44f1-475e-c381-8c722d4d3937"
      },
      "outputs": [
        {
          "data": {
            "text/plain": [
              "array([ 1,  2,  3,  4,  5,  6,  7,  8,  9, 10, 11, 12, 13, 14, 15, 16, 17,\n",
              "       18, 19, 20])"
            ]
          },
          "execution_count": 237,
          "metadata": {},
          "output_type": "execute_result"
        }
      ],
      "source": [
        "a = np.arange(1,21)\n",
        "a"
      ]
    },
    {
      "cell_type": "code",
      "execution_count": null,
      "id": "ba5f5c37-0ba7-4383-9f52-11ef2ade96c5",
      "metadata": {
        "id": "ba5f5c37-0ba7-4383-9f52-11ef2ade96c5",
        "outputId": "d15dec4a-ed1a-435c-c65b-b91cfaec1170"
      },
      "outputs": [
        {
          "data": {
            "text/plain": [
              "array([10, 20, 30, 40, 50])"
            ]
          },
          "execution_count": 239,
          "metadata": {},
          "output_type": "execute_result"
        }
      ],
      "source": [
        "slice = a[:5]\n",
        "slice = slice *10\n",
        "slice"
      ]
    },
    {
      "cell_type": "code",
      "execution_count": null,
      "id": "83013cae-3541-45ee-9cc8-d49d8e157235",
      "metadata": {
        "id": "83013cae-3541-45ee-9cc8-d49d8e157235",
        "outputId": "0846a2e7-ad87-4ec5-ce02-e9124b5bddc4"
      },
      "outputs": [
        {
          "data": {
            "text/plain": [
              "array([ 1,  2,  3,  4,  5,  6,  7,  8,  9, 10, 11, 12, 13, 14, 15, 16, 17,\n",
              "       18, 19, 20])"
            ]
          },
          "execution_count": 241,
          "metadata": {},
          "output_type": "execute_result"
        }
      ],
      "source": [
        "a"
      ]
    },
    {
      "cell_type": "code",
      "execution_count": null,
      "id": "88a543c9-e946-42e1-a035-8814af4f519f",
      "metadata": {
        "scrolled": true,
        "id": "88a543c9-e946-42e1-a035-8814af4f519f",
        "outputId": "1a82e3d8-d799-4625-933c-56c8bbcd0f0c"
      },
      "outputs": [
        {
          "data": {
            "text/plain": [
              "array([50, 60])"
            ]
          },
          "execution_count": 243,
          "metadata": {},
          "output_type": "execute_result"
        }
      ],
      "source": [
        "a[4:6] *10"
      ]
    },
    {
      "cell_type": "code",
      "execution_count": null,
      "id": "547d2936-7ad3-4fe8-8200-0fd6e40d5e26",
      "metadata": {
        "scrolled": true,
        "id": "547d2936-7ad3-4fe8-8200-0fd6e40d5e26",
        "outputId": "acf9e52b-0e13-45e2-8700-18ecf3161f8d"
      },
      "outputs": [
        {
          "data": {
            "text/plain": [
              "array([ 1,  2,  3,  4,  5,  6,  7,  8,  9, 10, 11, 12, 13, 14, 15, 16, 17,\n",
              "       18, 19, 20])"
            ]
          },
          "execution_count": 245,
          "metadata": {},
          "output_type": "execute_result"
        }
      ],
      "source": [
        "a"
      ]
    },
    {
      "cell_type": "code",
      "execution_count": null,
      "id": "ce1360bc-0499-494f-8f02-00f8f5a8316a",
      "metadata": {
        "id": "ce1360bc-0499-494f-8f02-00f8f5a8316a"
      },
      "outputs": [],
      "source": [
        "a\n",
        "b = a.copy()"
      ]
    },
    {
      "cell_type": "code",
      "execution_count": null,
      "id": "2caf3de7-ffa6-407f-a271-586b44815e31",
      "metadata": {
        "id": "2caf3de7-ffa6-407f-a271-586b44815e31"
      },
      "outputs": [],
      "source": [
        "b[0] = 99"
      ]
    },
    {
      "cell_type": "code",
      "execution_count": null,
      "id": "20db7ae8-6f3c-47f5-99fb-7f1d22e8aa03",
      "metadata": {
        "id": "20db7ae8-6f3c-47f5-99fb-7f1d22e8aa03",
        "outputId": "d2ad2ba4-dff4-4339-ba4a-00046e7f083b"
      },
      "outputs": [
        {
          "data": {
            "text/plain": [
              "array([99,  2,  3,  4,  5,  6,  7,  8,  9, 10, 11, 12, 13, 14, 15, 16, 17,\n",
              "       18, 19, 20])"
            ]
          },
          "execution_count": 251,
          "metadata": {},
          "output_type": "execute_result"
        }
      ],
      "source": [
        "b"
      ]
    },
    {
      "cell_type": "code",
      "execution_count": null,
      "id": "695309b0-c160-41b6-af60-b59d62b56038",
      "metadata": {
        "id": "695309b0-c160-41b6-af60-b59d62b56038",
        "outputId": "a63e64de-c809-4e13-ce2b-981998019dfc"
      },
      "outputs": [
        {
          "data": {
            "text/plain": [
              "array([ 1,  2,  3,  4,  5,  6,  7,  8,  9, 10, 11, 12, 13, 14, 15, 16, 17,\n",
              "       18, 19, 20])"
            ]
          },
          "execution_count": 253,
          "metadata": {},
          "output_type": "execute_result"
        }
      ],
      "source": [
        "a"
      ]
    },
    {
      "cell_type": "markdown",
      "id": "c1e38df2-0d56-4b59-ab29-3cd117b55eec",
      "metadata": {
        "id": "c1e38df2-0d56-4b59-ab29-3cd117b55eec"
      },
      "source": [
        "*Matrix operations*"
      ]
    },
    {
      "cell_type": "code",
      "execution_count": null,
      "id": "aef35ca5-74ab-4896-8e73-9e13bf32f528",
      "metadata": {
        "id": "aef35ca5-74ab-4896-8e73-9e13bf32f528"
      },
      "outputs": [],
      "source": [
        "A = np.array([[1, 2], [3, 4]])\n",
        "B = np.array([[5, 6], [7, 8]])"
      ]
    },
    {
      "cell_type": "code",
      "execution_count": null,
      "id": "7ad9ae54-34b8-4be8-aadc-fb1377308bcb",
      "metadata": {
        "id": "7ad9ae54-34b8-4be8-aadc-fb1377308bcb",
        "outputId": "22a4892a-6442-4d47-b3fe-934d84ea4288"
      },
      "outputs": [
        {
          "data": {
            "text/plain": [
              "array([[1, 2],\n",
              "       [3, 4]])"
            ]
          },
          "execution_count": 257,
          "metadata": {},
          "output_type": "execute_result"
        }
      ],
      "source": [
        "A"
      ]
    },
    {
      "cell_type": "code",
      "execution_count": null,
      "id": "cdc9533f-95b8-4f1e-a2bf-12615eaee39a",
      "metadata": {
        "id": "cdc9533f-95b8-4f1e-a2bf-12615eaee39a",
        "outputId": "b90283dd-7bb3-41a3-b4cb-85b08ed08da7"
      },
      "outputs": [
        {
          "data": {
            "text/plain": [
              "array([[5, 6],\n",
              "       [7, 8]])"
            ]
          },
          "execution_count": 259,
          "metadata": {},
          "output_type": "execute_result"
        }
      ],
      "source": [
        "B"
      ]
    },
    {
      "cell_type": "code",
      "execution_count": null,
      "id": "958b3a23-5081-487f-935e-b39d1e5d9eb2",
      "metadata": {
        "id": "958b3a23-5081-487f-935e-b39d1e5d9eb2",
        "outputId": "76d13047-6725-4cb4-c6b4-532d7758e158"
      },
      "outputs": [
        {
          "data": {
            "text/plain": [
              "array([[19, 22],\n",
              "       [43, 50]])"
            ]
          },
          "execution_count": 266,
          "metadata": {},
          "output_type": "execute_result"
        }
      ],
      "source": [
        "np.dot(A,B)"
      ]
    },
    {
      "cell_type": "code",
      "execution_count": null,
      "id": "d9e42829-7e32-4693-a224-9b996935174f",
      "metadata": {
        "id": "d9e42829-7e32-4693-a224-9b996935174f",
        "outputId": "9a80ebc8-27b8-4dcd-d61f-c40c6f103600"
      },
      "outputs": [
        {
          "data": {
            "text/plain": [
              "array([[1, 2],\n",
              "       [3, 4]])"
            ]
          },
          "execution_count": 268,
          "metadata": {},
          "output_type": "execute_result"
        }
      ],
      "source": [
        "A"
      ]
    },
    {
      "cell_type": "code",
      "execution_count": null,
      "id": "024718d9-b572-459e-87e6-9b6b8446ed14",
      "metadata": {
        "id": "024718d9-b572-459e-87e6-9b6b8446ed14",
        "outputId": "f18bb322-44ea-443b-9ea0-e6df9acb10d9"
      },
      "outputs": [
        {
          "data": {
            "text/plain": [
              "array([[1, 3],\n",
              "       [2, 4]])"
            ]
          },
          "execution_count": 270,
          "metadata": {},
          "output_type": "execute_result"
        }
      ],
      "source": [
        "A.T"
      ]
    },
    {
      "cell_type": "code",
      "execution_count": null,
      "id": "c8388944-5785-4577-b713-96f68e74ab49",
      "metadata": {
        "id": "c8388944-5785-4577-b713-96f68e74ab49"
      },
      "outputs": [],
      "source": []
    },
    {
      "cell_type": "markdown",
      "id": "e8ceb0c0-080e-45a6-b720-e58947d4f33b",
      "metadata": {
        "id": "e8ceb0c0-080e-45a6-b720-e58947d4f33b"
      },
      "source": [
        "**Advance Array Manipulation**"
      ]
    },
    {
      "cell_type": "markdown",
      "id": "33525132-e032-4c48-9e4d-d36d5edb3402",
      "metadata": {
        "id": "33525132-e032-4c48-9e4d-d36d5edb3402"
      },
      "source": [
        "*Stacking Array*"
      ]
    },
    {
      "cell_type": "code",
      "execution_count": null,
      "id": "d2a1d2af-a0fa-493c-a02d-e6e9a73e9f5c",
      "metadata": {
        "id": "d2a1d2af-a0fa-493c-a02d-e6e9a73e9f5c"
      },
      "outputs": [],
      "source": [
        "a = np.array([1, 2, 3, 4])\n",
        "b = np.array([5, 6, 7, 8])"
      ]
    },
    {
      "cell_type": "code",
      "execution_count": null,
      "id": "ebb045a7-45a5-49d4-93f6-a333b815abf5",
      "metadata": {
        "id": "ebb045a7-45a5-49d4-93f6-a333b815abf5",
        "outputId": "4b852643-2d20-40ce-dc34-9729f6c42e3c"
      },
      "outputs": [
        {
          "data": {
            "text/plain": [
              "array([[1, 2, 3, 4],\n",
              "       [5, 6, 7, 8]])"
            ]
          },
          "execution_count": 294,
          "metadata": {},
          "output_type": "execute_result"
        }
      ],
      "source": [
        "np.vstack((a,b))"
      ]
    },
    {
      "cell_type": "code",
      "execution_count": null,
      "id": "3a5a7884-d199-4292-a4c0-32dec35ee14b",
      "metadata": {
        "id": "3a5a7884-d199-4292-a4c0-32dec35ee14b",
        "outputId": "4024f370-3f99-4ee7-e55c-c7f4cadc252e"
      },
      "outputs": [
        {
          "data": {
            "text/plain": [
              "array([1, 2, 3, 4, 5, 6, 7, 8])"
            ]
          },
          "execution_count": 296,
          "metadata": {},
          "output_type": "execute_result"
        }
      ],
      "source": [
        "np.hstack((a,b))"
      ]
    },
    {
      "cell_type": "code",
      "execution_count": null,
      "id": "56c0f9c2-32b3-4fbf-8d94-d16767e1e909",
      "metadata": {
        "id": "56c0f9c2-32b3-4fbf-8d94-d16767e1e909",
        "outputId": "cbfb0589-2a24-4097-d4e9-926cd7f9aae3"
      },
      "outputs": [
        {
          "data": {
            "text/plain": [
              "array([[1, 5],\n",
              "       [2, 6],\n",
              "       [3, 7],\n",
              "       [4, 8]])"
            ]
          },
          "execution_count": 298,
          "metadata": {},
          "output_type": "execute_result"
        }
      ],
      "source": [
        "np.column_stack((a,b))"
      ]
    },
    {
      "cell_type": "markdown",
      "id": "7476fbf1-0b79-4aab-8e5c-57936c33113f",
      "metadata": {
        "id": "7476fbf1-0b79-4aab-8e5c-57936c33113f"
      },
      "source": [
        "*Splitting array*"
      ]
    },
    {
      "cell_type": "code",
      "execution_count": null,
      "id": "d005efcb-1223-40ea-b77e-b17ec3ebb71d",
      "metadata": {
        "id": "d005efcb-1223-40ea-b77e-b17ec3ebb71d",
        "outputId": "d01ddf57-f3bd-4b93-98c5-82ecf76d862c"
      },
      "outputs": [
        {
          "data": {
            "text/plain": [
              "array([[ 0,  1,  2,  3],\n",
              "       [ 4,  5,  6,  7],\n",
              "       [ 8,  9, 10, 11],\n",
              "       [12, 13, 14, 15]])"
            ]
          },
          "execution_count": 302,
          "metadata": {},
          "output_type": "execute_result"
        }
      ],
      "source": [
        "c = np.arange(16).reshape(4, 4)\n",
        "c"
      ]
    },
    {
      "cell_type": "code",
      "execution_count": null,
      "id": "d61b975e-74e9-4c6c-ac8b-6ead69ab33d4",
      "metadata": {
        "id": "d61b975e-74e9-4c6c-ac8b-6ead69ab33d4",
        "outputId": "45b7ff5c-916a-44af-841b-4b147b2a18b1"
      },
      "outputs": [
        {
          "data": {
            "text/plain": [
              "[array([[ 0],\n",
              "        [ 4],\n",
              "        [ 8],\n",
              "        [12]]),\n",
              " array([[ 1],\n",
              "        [ 5],\n",
              "        [ 9],\n",
              "        [13]]),\n",
              " array([[ 2],\n",
              "        [ 6],\n",
              "        [10],\n",
              "        [14]]),\n",
              " array([[ 3],\n",
              "        [ 7],\n",
              "        [11],\n",
              "        [15]])]"
            ]
          },
          "execution_count": 315,
          "metadata": {},
          "output_type": "execute_result"
        }
      ],
      "source": [
        "np.hsplit(c,4)"
      ]
    },
    {
      "cell_type": "code",
      "execution_count": null,
      "id": "a4c63087-ccbe-40fe-a4ec-b216a92d51ef",
      "metadata": {
        "id": "a4c63087-ccbe-40fe-a4ec-b216a92d51ef",
        "outputId": "e12d196a-a665-4540-938c-b0334c3fe5d1"
      },
      "outputs": [
        {
          "data": {
            "text/plain": [
              "[array([[0, 1, 2, 3],\n",
              "        [4, 5, 6, 7]]),\n",
              " array([[ 8,  9, 10, 11],\n",
              "        [12, 13, 14, 15]])]"
            ]
          },
          "execution_count": 317,
          "metadata": {},
          "output_type": "execute_result"
        }
      ],
      "source": [
        "np.vsplit(c,2)"
      ]
    },
    {
      "cell_type": "code",
      "execution_count": null,
      "id": "ca3ab57e-b034-468f-9eaf-90be63ba531a",
      "metadata": {
        "id": "ca3ab57e-b034-468f-9eaf-90be63ba531a"
      },
      "outputs": [],
      "source": []
    }
  ],
  "metadata": {
    "kernelspec": {
      "display_name": "Python [conda env:base] *",
      "language": "python",
      "name": "conda-base-py"
    },
    "language_info": {
      "codemirror_mode": {
        "name": "ipython",
        "version": 3
      },
      "file_extension": ".py",
      "mimetype": "text/x-python",
      "name": "python",
      "nbconvert_exporter": "python",
      "pygments_lexer": "ipython3",
      "version": "3.12.7"
    },
    "colab": {
      "provenance": []
    }
  },
  "nbformat": 4,
  "nbformat_minor": 5
}