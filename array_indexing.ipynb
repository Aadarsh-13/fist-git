{
  "cells": [
    {
      "cell_type": "code",
      "execution_count": 2,
      "id": "c3fc27b5-0dea-41cf-850b-2c14f3acda37",
      "metadata": {
        "id": "c3fc27b5-0dea-41cf-850b-2c14f3acda37"
      },
      "outputs": [],
      "source": [
        "import numpy as np"
      ]
    },
    {
      "cell_type": "markdown",
      "id": "82147fb2-d890-45e0-960f-815948db3a4b",
      "metadata": {
        "id": "82147fb2-d890-45e0-960f-815948db3a4b"
      },
      "source": [
        "**NUMPY INDEXING AND SLICING OF VECTORS**"
      ]
    },
    {
      "cell_type": "code",
      "execution_count": 3,
      "id": "09c4857a-c37b-474a-b33a-da045c50b91a",
      "metadata": {
        "id": "09c4857a-c37b-474a-b33a-da045c50b91a",
        "outputId": "b33ca166-3364-438b-fe3c-b48052b83d4a",
        "colab": {
          "base_uri": "https://localhost:8080/"
        }
      },
      "outputs": [
        {
          "output_type": "execute_result",
          "data": {
            "text/plain": [
              "array([11, 12, 13, 14, 15, 16, 17, 18, 19, 20])"
            ]
          },
          "metadata": {},
          "execution_count": 3
        }
      ],
      "source": [
        "arr = np.arange(11,21)\n",
        "arr"
      ]
    },
    {
      "cell_type": "code",
      "execution_count": 4,
      "id": "4542f4c1-0ca7-4109-aafc-491b92014ab0",
      "metadata": {
        "id": "4542f4c1-0ca7-4109-aafc-491b92014ab0",
        "outputId": "32f514d2-da5f-41b3-e063-67d30e6de193",
        "colab": {
          "base_uri": "https://localhost:8080/"
        }
      },
      "outputs": [
        {
          "output_type": "execute_result",
          "data": {
            "text/plain": [
              "array([14, 16, 18, 20])"
            ]
          },
          "metadata": {},
          "execution_count": 4
        }
      ],
      "source": [
        "arr_slice = arr[3::2]\n",
        "arr_slice"
      ]
    },
    {
      "cell_type": "code",
      "execution_count": 5,
      "id": "98797c71-5bfe-43db-99f9-c4d36358f571",
      "metadata": {
        "id": "98797c71-5bfe-43db-99f9-c4d36358f571",
        "outputId": "6c103647-cbf3-4ffc-bbe5-0553d076a6cc",
        "colab": {
          "base_uri": "https://localhost:8080/"
        }
      },
      "outputs": [
        {
          "output_type": "execute_result",
          "data": {
            "text/plain": [
              "np.int64(15)"
            ]
          },
          "metadata": {},
          "execution_count": 5
        }
      ],
      "source": [
        "arr[4]"
      ]
    },
    {
      "cell_type": "markdown",
      "id": "63e574f8-4743-4418-93a2-6bbe713727ce",
      "metadata": {
        "id": "63e574f8-4743-4418-93a2-6bbe713727ce"
      },
      "source": [
        "**NUMPY INDEXING AND SLICING OF MATRIX**"
      ]
    },
    {
      "cell_type": "code",
      "execution_count": 7,
      "id": "dd0d69a6-d9a3-4693-b164-950329776d58",
      "metadata": {
        "id": "dd0d69a6-d9a3-4693-b164-950329776d58",
        "outputId": "8a6f550e-77c2-425a-ecb8-cdd22d0e3f1a",
        "colab": {
          "base_uri": "https://localhost:8080/"
        }
      },
      "outputs": [
        {
          "output_type": "execute_result",
          "data": {
            "text/plain": [
              "array([[ 1,  2,  3,  4,  5],\n",
              "       [ 6,  7,  8,  9, 10],\n",
              "       [11, 12, 13, 14, 15],\n",
              "       [16, 17, 18, 19, 20],\n",
              "       [21, 22, 23, 24, 25],\n",
              "       [26, 27, 28, 29, 30]])"
            ]
          },
          "metadata": {},
          "execution_count": 7
        }
      ],
      "source": [
        "arr = np.arange(1,31).reshape(6,5)\n",
        "arr"
      ]
    },
    {
      "cell_type": "code",
      "execution_count": 9,
      "id": "0d3e07c8-596c-4a7f-a0c3-3503ad58f9cd",
      "metadata": {
        "id": "0d3e07c8-596c-4a7f-a0c3-3503ad58f9cd",
        "outputId": "e5d0860d-27ff-4470-81fa-48deadffe070",
        "colab": {
          "base_uri": "https://localhost:8080/"
        }
      },
      "outputs": [
        {
          "output_type": "execute_result",
          "data": {
            "text/plain": [
              "array([[19, 20],\n",
              "       [24, 25],\n",
              "       [29, 30]])"
            ]
          },
          "metadata": {},
          "execution_count": 9
        }
      ],
      "source": [
        "slice = arr[3:,3:]\n",
        "slice"
      ]
    },
    {
      "cell_type": "code",
      "execution_count": null,
      "id": "1c34ca3f-3284-48a0-8bf7-480ccdd1a0b0",
      "metadata": {
        "id": "1c34ca3f-3284-48a0-8bf7-480ccdd1a0b0",
        "outputId": "9f69c97f-8f2e-437a-e123-dc573d387748"
      },
      "outputs": [
        {
          "data": {
            "text/plain": [
              "array([ 3,  8, 13, 18, 23, 28])"
            ]
          },
          "execution_count": 109,
          "metadata": {},
          "output_type": "execute_result"
        }
      ],
      "source": [
        "arr[:,2]"
      ]
    },
    {
      "cell_type": "code",
      "execution_count": null,
      "id": "663bf83a-c540-442b-b158-43a6a306f685",
      "metadata": {
        "id": "663bf83a-c540-442b-b158-43a6a306f685"
      },
      "outputs": [],
      "source": []
    },
    {
      "cell_type": "code",
      "execution_count": null,
      "id": "516f8e07-42f7-4b83-a55c-7641f6c8a084",
      "metadata": {
        "id": "516f8e07-42f7-4b83-a55c-7641f6c8a084"
      },
      "outputs": [],
      "source": []
    },
    {
      "cell_type": "markdown",
      "id": "444f4090-1f08-4521-945a-c6e96d029c4e",
      "metadata": {
        "id": "444f4090-1f08-4521-945a-c6e96d029c4e"
      },
      "source": [
        "**BOOLEAN INDEXING**"
      ]
    },
    {
      "cell_type": "code",
      "execution_count": null,
      "id": "ca0a9c0b-b8a8-439a-a5ab-9462719b2071",
      "metadata": {
        "id": "ca0a9c0b-b8a8-439a-a5ab-9462719b2071",
        "outputId": "fac0762d-54cb-4dc9-ac11-8c7728a0425b"
      },
      "outputs": [
        {
          "data": {
            "text/plain": [
              "array([11, 12, 13, 14, 15, 16, 17, 18, 19, 20])"
            ]
          },
          "execution_count": 133,
          "metadata": {},
          "output_type": "execute_result"
        }
      ],
      "source": [
        "arr = np.arange(11,21)\n",
        "arr"
      ]
    },
    {
      "cell_type": "code",
      "execution_count": null,
      "id": "277a318a-b555-45f4-a526-29d1e25f5d14",
      "metadata": {
        "id": "277a318a-b555-45f4-a526-29d1e25f5d14",
        "outputId": "1316d2d3-e89e-44bc-9935-c151d6f282b9"
      },
      "outputs": [
        {
          "data": {
            "text/plain": [
              "array([False,  True, False,  True, False,  True, False,  True, False,\n",
              "        True])"
            ]
          },
          "execution_count": 135,
          "metadata": {},
          "output_type": "execute_result"
        }
      ],
      "source": [
        "bool_index = arr %2 == 0\n",
        "bool_index"
      ]
    },
    {
      "cell_type": "code",
      "execution_count": null,
      "id": "6c7e1b8d-11ab-408a-954e-da6496e2b77a",
      "metadata": {
        "id": "6c7e1b8d-11ab-408a-954e-da6496e2b77a",
        "outputId": "e68e3e99-b3ad-4d5f-8c3b-6984b0dca632"
      },
      "outputs": [
        {
          "data": {
            "text/plain": [
              "array([12, 14, 16, 18, 20])"
            ]
          },
          "execution_count": 137,
          "metadata": {},
          "output_type": "execute_result"
        }
      ],
      "source": [
        "arr = arr[bool_index]\n",
        "arr"
      ]
    },
    {
      "cell_type": "code",
      "execution_count": null,
      "id": "2819031d-533c-4d9f-ae8c-31dc000dfddb",
      "metadata": {
        "id": "2819031d-533c-4d9f-ae8c-31dc000dfddb"
      },
      "outputs": [],
      "source": []
    }
  ],
  "metadata": {
    "kernelspec": {
      "display_name": "Python [conda env:base] *",
      "language": "python",
      "name": "conda-base-py"
    },
    "language_info": {
      "codemirror_mode": {
        "name": "ipython",
        "version": 3
      },
      "file_extension": ".py",
      "mimetype": "text/x-python",
      "name": "python",
      "nbconvert_exporter": "python",
      "pygments_lexer": "ipython3",
      "version": "3.12.7"
    },
    "colab": {
      "provenance": []
    }
  },
  "nbformat": 4,
  "nbformat_minor": 5
}