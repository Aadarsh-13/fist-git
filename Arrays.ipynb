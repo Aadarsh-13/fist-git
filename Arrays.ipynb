{
  "cells": [
    {
      "cell_type": "code",
      "execution_count": 2,
      "id": "948323f1-377f-4d1c-b003-4f47e8972d05",
      "metadata": {
        "id": "948323f1-377f-4d1c-b003-4f47e8972d05"
      },
      "outputs": [],
      "source": [
        "import numpy as np"
      ]
    },
    {
      "cell_type": "markdown",
      "id": "0b2f6f38-b78c-45a1-89e3-b825067018e0",
      "metadata": {
        "id": "0b2f6f38-b78c-45a1-89e3-b825067018e0"
      },
      "source": [
        "**Basic Array creation**"
      ]
    },
    {
      "cell_type": "code",
      "execution_count": 3,
      "id": "01b3849f-87dc-433c-9d51-bec087e0b23b",
      "metadata": {
        "id": "01b3849f-87dc-433c-9d51-bec087e0b23b",
        "outputId": "135e5ec6-a5ab-4857-b8cd-e8d00f28ab1e",
        "colab": {
          "base_uri": "https://localhost:8080/"
        }
      },
      "outputs": [
        {
          "output_type": "execute_result",
          "data": {
            "text/plain": [
              "array([1, 2, 3, 4])"
            ]
          },
          "metadata": {},
          "execution_count": 3
        }
      ],
      "source": [
        "arr = np.array([1,2,3,4])\n",
        "arr"
      ]
    },
    {
      "cell_type": "code",
      "execution_count": 4,
      "id": "5c9e1446-cdcb-413a-9424-dde74f28e4ab",
      "metadata": {
        "id": "5c9e1446-cdcb-413a-9424-dde74f28e4ab",
        "outputId": "077d3e71-3919-4e04-c5dc-55913c79bcd6",
        "colab": {
          "base_uri": "https://localhost:8080/"
        }
      },
      "outputs": [
        {
          "output_type": "execute_result",
          "data": {
            "text/plain": [
              "[1, 2, 3.5]"
            ]
          },
          "metadata": {},
          "execution_count": 4
        }
      ],
      "source": [
        "a = [1,2,3.5]\n",
        "a"
      ]
    },
    {
      "cell_type": "code",
      "execution_count": 8,
      "id": "6c08b07e-e7ca-4c91-89d1-c9e593d90fac",
      "metadata": {
        "id": "6c08b07e-e7ca-4c91-89d1-c9e593d90fac",
        "outputId": "c2f2300b-f438-439a-ea61-79c4d5d37056",
        "colab": {
          "base_uri": "https://localhost:8080/"
        }
      },
      "outputs": [
        {
          "output_type": "execute_result",
          "data": {
            "text/plain": [
              "array([1. , 2. , 3.5])"
            ]
          },
          "metadata": {},
          "execution_count": 8
        }
      ],
      "source": [
        "np.array(a)"
      ]
    },
    {
      "cell_type": "code",
      "execution_count": 9,
      "id": "3a6f62b2-5b2a-4316-9e21-92600acfda06",
      "metadata": {
        "id": "3a6f62b2-5b2a-4316-9e21-92600acfda06",
        "outputId": "b6f33910-e3f1-4a13-ecad-3545ae7a144d",
        "colab": {
          "base_uri": "https://localhost:8080/"
        }
      },
      "outputs": [
        {
          "output_type": "execute_result",
          "data": {
            "text/plain": [
              "[[1, 2, 3], [4, 5, 6], [7, 8, 9]]"
            ]
          },
          "metadata": {},
          "execution_count": 9
        }
      ],
      "source": [
        "l = [[1,2,3],[4,5,6],[7,8,9]]\n",
        "l"
      ]
    },
    {
      "cell_type": "code",
      "execution_count": 10,
      "id": "02cbb397-7343-412f-920e-0978498c55a1",
      "metadata": {
        "id": "02cbb397-7343-412f-920e-0978498c55a1",
        "outputId": "ec14233a-00f4-445e-8f1e-8bc6a1a0a319",
        "colab": {
          "base_uri": "https://localhost:8080/"
        }
      },
      "outputs": [
        {
          "output_type": "execute_result",
          "data": {
            "text/plain": [
              "array([[1, 2, 3],\n",
              "       [4, 5, 6],\n",
              "       [7, 8, 9]])"
            ]
          },
          "metadata": {},
          "execution_count": 10
        }
      ],
      "source": [
        "np.array(l)"
      ]
    },
    {
      "cell_type": "markdown",
      "id": "150f7bdb-d97f-4045-83bb-4b6c93bda4c2",
      "metadata": {
        "id": "150f7bdb-d97f-4045-83bb-4b6c93bda4c2"
      },
      "source": [
        "**Array generation function**"
      ]
    },
    {
      "cell_type": "code",
      "execution_count": 11,
      "id": "25d18de9-d1ee-48e3-b2e7-4afd8ea22594",
      "metadata": {
        "id": "25d18de9-d1ee-48e3-b2e7-4afd8ea22594",
        "outputId": "4a9b8850-051b-4fed-d5f3-f89ef6e57fbc",
        "colab": {
          "base_uri": "https://localhost:8080/"
        }
      },
      "outputs": [
        {
          "output_type": "execute_result",
          "data": {
            "text/plain": [
              "array([1, 3, 5, 7, 9])"
            ]
          },
          "metadata": {},
          "execution_count": 11
        }
      ],
      "source": [
        "arr = np.arange(1,11,2)\n",
        "arr"
      ]
    },
    {
      "cell_type": "code",
      "execution_count": 12,
      "id": "f85292ba-64de-43ea-8d9c-2b205b5105be",
      "metadata": {
        "id": "f85292ba-64de-43ea-8d9c-2b205b5105be",
        "outputId": "1690024f-b6a7-4b13-a571-8c528996dae0",
        "colab": {
          "base_uri": "https://localhost:8080/"
        }
      },
      "outputs": [
        {
          "output_type": "execute_result",
          "data": {
            "text/plain": [
              "array([[0., 0., 0., 0., 0., 0., 0., 0.],\n",
              "       [0., 0., 0., 0., 0., 0., 0., 0.],\n",
              "       [0., 0., 0., 0., 0., 0., 0., 0.],\n",
              "       [0., 0., 0., 0., 0., 0., 0., 0.]])"
            ]
          },
          "metadata": {},
          "execution_count": 12
        }
      ],
      "source": [
        "arr = np.zeros((4,8))\n",
        "arr"
      ]
    },
    {
      "cell_type": "code",
      "execution_count": 13,
      "id": "c539c4ec-54d3-409a-84f6-cc50ae3f812e",
      "metadata": {
        "id": "c539c4ec-54d3-409a-84f6-cc50ae3f812e",
        "outputId": "01033fd3-a182-4c25-9014-139f0cdd89bd",
        "colab": {
          "base_uri": "https://localhost:8080/"
        }
      },
      "outputs": [
        {
          "output_type": "execute_result",
          "data": {
            "text/plain": [
              "array([[1., 1., 1., 1., 1., 1.],\n",
              "       [1., 1., 1., 1., 1., 1.],\n",
              "       [1., 1., 1., 1., 1., 1.],\n",
              "       [1., 1., 1., 1., 1., 1.],\n",
              "       [1., 1., 1., 1., 1., 1.],\n",
              "       [1., 1., 1., 1., 1., 1.]])"
            ]
          },
          "metadata": {},
          "execution_count": 13
        }
      ],
      "source": [
        "arr = np.ones((6,6))\n",
        "arr"
      ]
    },
    {
      "cell_type": "code",
      "execution_count": 14,
      "id": "bb770514-6620-49ec-bef7-0f9a2ac86bb6",
      "metadata": {
        "id": "bb770514-6620-49ec-bef7-0f9a2ac86bb6",
        "outputId": "fe28441c-884d-4c09-9402-6020ef67f6a4",
        "colab": {
          "base_uri": "https://localhost:8080/"
        }
      },
      "outputs": [
        {
          "output_type": "execute_result",
          "data": {
            "text/plain": [
              "array([0.        , 0.01010101, 0.02020202, 0.03030303, 0.04040404,\n",
              "       0.05050505, 0.06060606, 0.07070707, 0.08080808, 0.09090909,\n",
              "       0.1010101 , 0.11111111, 0.12121212, 0.13131313, 0.14141414,\n",
              "       0.15151515, 0.16161616, 0.17171717, 0.18181818, 0.19191919,\n",
              "       0.2020202 , 0.21212121, 0.22222222, 0.23232323, 0.24242424,\n",
              "       0.25252525, 0.26262626, 0.27272727, 0.28282828, 0.29292929,\n",
              "       0.3030303 , 0.31313131, 0.32323232, 0.33333333, 0.34343434,\n",
              "       0.35353535, 0.36363636, 0.37373737, 0.38383838, 0.39393939,\n",
              "       0.4040404 , 0.41414141, 0.42424242, 0.43434343, 0.44444444,\n",
              "       0.45454545, 0.46464646, 0.47474747, 0.48484848, 0.49494949,\n",
              "       0.50505051, 0.51515152, 0.52525253, 0.53535354, 0.54545455,\n",
              "       0.55555556, 0.56565657, 0.57575758, 0.58585859, 0.5959596 ,\n",
              "       0.60606061, 0.61616162, 0.62626263, 0.63636364, 0.64646465,\n",
              "       0.65656566, 0.66666667, 0.67676768, 0.68686869, 0.6969697 ,\n",
              "       0.70707071, 0.71717172, 0.72727273, 0.73737374, 0.74747475,\n",
              "       0.75757576, 0.76767677, 0.77777778, 0.78787879, 0.7979798 ,\n",
              "       0.80808081, 0.81818182, 0.82828283, 0.83838384, 0.84848485,\n",
              "       0.85858586, 0.86868687, 0.87878788, 0.88888889, 0.8989899 ,\n",
              "       0.90909091, 0.91919192, 0.92929293, 0.93939394, 0.94949495,\n",
              "       0.95959596, 0.96969697, 0.97979798, 0.98989899, 1.        ])"
            ]
          },
          "metadata": {},
          "execution_count": 14
        }
      ],
      "source": [
        "arr = np.linspace(0,1,100)\n",
        "arr"
      ]
    },
    {
      "cell_type": "code",
      "execution_count": null,
      "id": "fb7faaea-1ff1-47b0-aa66-9cfb8a86eeed",
      "metadata": {
        "id": "fb7faaea-1ff1-47b0-aa66-9cfb8a86eeed"
      },
      "outputs": [],
      "source": []
    },
    {
      "cell_type": "markdown",
      "id": "8c91fddf-514a-4c87-bd01-2f0900b4fb71",
      "metadata": {
        "id": "8c91fddf-514a-4c87-bd01-2f0900b4fb71"
      },
      "source": [
        "**Random Generation function**"
      ]
    },
    {
      "cell_type": "code",
      "execution_count": 15,
      "id": "0bdafb14-2573-4c46-87e8-9231c879d463",
      "metadata": {
        "id": "0bdafb14-2573-4c46-87e8-9231c879d463",
        "outputId": "5c59e6af-9614-4551-da55-f4548c817d69",
        "colab": {
          "base_uri": "https://localhost:8080/"
        }
      },
      "outputs": [
        {
          "output_type": "execute_result",
          "data": {
            "text/plain": [
              "array([0.45139898, 0.95034837, 0.49986582, 0.9986839 , 0.89700737,\n",
              "       0.93962698, 0.82812481, 0.65914456, 0.81938833, 0.00777409])"
            ]
          },
          "metadata": {},
          "execution_count": 15
        }
      ],
      "source": [
        "np.random.rand(10)"
      ]
    },
    {
      "cell_type": "code",
      "execution_count": 16,
      "id": "9e922fd2-2f22-4e1a-bece-8641e17ea29e",
      "metadata": {
        "id": "9e922fd2-2f22-4e1a-bece-8641e17ea29e",
        "outputId": "a571d026-a822-499d-d628-72efa7f375ea",
        "colab": {
          "base_uri": "https://localhost:8080/"
        }
      },
      "outputs": [
        {
          "output_type": "execute_result",
          "data": {
            "text/plain": [
              "array([-0.94169122, -1.4064858 ,  1.61800284,  1.18686505, -0.67610199,\n",
              "       -1.14424453,  0.79102195,  0.00695174,  0.40356472, -0.0791147 ])"
            ]
          },
          "metadata": {},
          "execution_count": 16
        }
      ],
      "source": [
        "np.random.randn(10)"
      ]
    },
    {
      "cell_type": "code",
      "execution_count": 17,
      "id": "140a9a82-e056-4b0b-89fa-5f695511615d",
      "metadata": {
        "id": "140a9a82-e056-4b0b-89fa-5f695511615d",
        "outputId": "9d1ef667-704b-4f55-c4c1-8a33841e9a19",
        "colab": {
          "base_uri": "https://localhost:8080/"
        }
      },
      "outputs": [
        {
          "output_type": "execute_result",
          "data": {
            "text/plain": [
              "array([11, 19, 12, 12, 11, 15, 13, 15, 16, 11])"
            ]
          },
          "metadata": {},
          "execution_count": 17
        }
      ],
      "source": [
        "np.random.randint(10,20,10)"
      ]
    },
    {
      "cell_type": "code",
      "execution_count": null,
      "id": "c819837e-3cbb-4a1a-a960-28ac4c9216d3",
      "metadata": {
        "id": "c819837e-3cbb-4a1a-a960-28ac4c9216d3"
      },
      "outputs": [],
      "source": []
    },
    {
      "cell_type": "markdown",
      "id": "bd36a533-4f1b-476c-9840-c8b88d81f43c",
      "metadata": {
        "id": "bd36a533-4f1b-476c-9840-c8b88d81f43c"
      },
      "source": [
        "**Array Attributes**"
      ]
    },
    {
      "cell_type": "code",
      "execution_count": 18,
      "id": "d618a313-2444-4e66-84b7-2d123d1d4a69",
      "metadata": {
        "id": "d618a313-2444-4e66-84b7-2d123d1d4a69",
        "outputId": "efac4a54-1163-4aeb-c943-17ad3079d24b",
        "colab": {
          "base_uri": "https://localhost:8080/"
        }
      },
      "outputs": [
        {
          "output_type": "execute_result",
          "data": {
            "text/plain": [
              "array([[1, 2, 3],\n",
              "       [4, 5, 6],\n",
              "       [7, 8, 9]])"
            ]
          },
          "metadata": {},
          "execution_count": 18
        }
      ],
      "source": [
        "arr = np.array([[1,2,3],[4,5,6],[7,8,9]])\n",
        "arr"
      ]
    },
    {
      "cell_type": "code",
      "execution_count": 19,
      "id": "1c8e19ef-788a-404a-91b7-2b457af2c421",
      "metadata": {
        "id": "1c8e19ef-788a-404a-91b7-2b457af2c421",
        "outputId": "3991e154-dcc2-474e-f8e0-4c1251abf051",
        "colab": {
          "base_uri": "https://localhost:8080/"
        }
      },
      "outputs": [
        {
          "output_type": "execute_result",
          "data": {
            "text/plain": [
              "(3, 3)"
            ]
          },
          "metadata": {},
          "execution_count": 19
        }
      ],
      "source": [
        "arr.shape"
      ]
    },
    {
      "cell_type": "code",
      "execution_count": null,
      "id": "9423e1f8-3780-4061-8f38-341b73044035",
      "metadata": {
        "id": "9423e1f8-3780-4061-8f38-341b73044035",
        "outputId": "1c00b807-3cd6-4172-fdbe-fe7116ff5c13"
      },
      "outputs": [
        {
          "data": {
            "text/plain": [
              "9"
            ]
          },
          "execution_count": 94,
          "metadata": {},
          "output_type": "execute_result"
        }
      ],
      "source": [
        "arr.size"
      ]
    },
    {
      "cell_type": "code",
      "execution_count": null,
      "id": "aaa2371c-d4b3-477b-a5bf-d386647c24cf",
      "metadata": {
        "id": "aaa2371c-d4b3-477b-a5bf-d386647c24cf",
        "outputId": "0b5e4edc-593a-4775-bb29-0f5e750effa0"
      },
      "outputs": [
        {
          "data": {
            "text/plain": [
              "dtype('int64')"
            ]
          },
          "execution_count": 96,
          "metadata": {},
          "output_type": "execute_result"
        }
      ],
      "source": [
        "arr.dtype"
      ]
    },
    {
      "cell_type": "code",
      "execution_count": null,
      "id": "b9cba21f-3a14-463a-87d3-08e4fe76ebb3",
      "metadata": {
        "id": "b9cba21f-3a14-463a-87d3-08e4fe76ebb3"
      },
      "outputs": [],
      "source": []
    },
    {
      "cell_type": "markdown",
      "id": "830cab2a-fae8-43f5-98b8-e1d0b319173e",
      "metadata": {
        "id": "830cab2a-fae8-43f5-98b8-e1d0b319173e"
      },
      "source": [
        "**Array Methods**"
      ]
    },
    {
      "cell_type": "code",
      "execution_count": null,
      "id": "e26509b0-8df8-4fab-a0a6-3e282f0b9f9d",
      "metadata": {
        "id": "e26509b0-8df8-4fab-a0a6-3e282f0b9f9d",
        "outputId": "3169ddc2-1865-4520-8e2a-16ac5b2851eb"
      },
      "outputs": [
        {
          "data": {
            "text/plain": [
              "array([[1, 2, 3],\n",
              "       [4, 5, 6],\n",
              "       [7, 8, 9]])"
            ]
          },
          "execution_count": 101,
          "metadata": {},
          "output_type": "execute_result"
        }
      ],
      "source": [
        "arr"
      ]
    },
    {
      "cell_type": "code",
      "execution_count": null,
      "id": "da25e1fb-e479-4912-a947-0a8d5991a8c9",
      "metadata": {
        "id": "da25e1fb-e479-4912-a947-0a8d5991a8c9",
        "outputId": "012915e4-301f-4ca9-d567-574ab4acf23c"
      },
      "outputs": [
        {
          "data": {
            "text/plain": [
              "1"
            ]
          },
          "execution_count": 103,
          "metadata": {},
          "output_type": "execute_result"
        }
      ],
      "source": [
        "arr.min()"
      ]
    },
    {
      "cell_type": "code",
      "execution_count": null,
      "id": "2c09b73c-bf37-431f-a51b-a2186e6e967a",
      "metadata": {
        "id": "2c09b73c-bf37-431f-a51b-a2186e6e967a",
        "outputId": "fc16cbe3-0732-4d12-d3b2-a2a99b123506"
      },
      "outputs": [
        {
          "data": {
            "text/plain": [
              "9"
            ]
          },
          "execution_count": 105,
          "metadata": {},
          "output_type": "execute_result"
        }
      ],
      "source": [
        "arr.max()"
      ]
    },
    {
      "cell_type": "code",
      "execution_count": null,
      "id": "80fad60f-4bfd-4b01-bac7-01314712f8d7",
      "metadata": {
        "id": "80fad60f-4bfd-4b01-bac7-01314712f8d7",
        "outputId": "b3118150-e657-4027-e67c-0f2af23709d7"
      },
      "outputs": [
        {
          "data": {
            "text/plain": [
              "45"
            ]
          },
          "execution_count": 107,
          "metadata": {},
          "output_type": "execute_result"
        }
      ],
      "source": [
        "arr.sum()"
      ]
    },
    {
      "cell_type": "code",
      "execution_count": null,
      "id": "3467faed-3397-4d59-b9db-d96364b165b5",
      "metadata": {
        "id": "3467faed-3397-4d59-b9db-d96364b165b5",
        "outputId": "8f80666a-f3f6-4831-b0f9-eb7b155fb446"
      },
      "outputs": [
        {
          "data": {
            "text/plain": [
              "array([ 6, 15, 24])"
            ]
          },
          "execution_count": 111,
          "metadata": {},
          "output_type": "execute_result"
        }
      ],
      "source": [
        "np.sum(arr,axis = 1)"
      ]
    },
    {
      "cell_type": "code",
      "execution_count": null,
      "id": "bf7b2d1e-afc6-49f8-b7f9-5f54d284cc87",
      "metadata": {
        "id": "bf7b2d1e-afc6-49f8-b7f9-5f54d284cc87",
        "outputId": "8d46d1ab-34fa-413a-9ab7-75191a900929"
      },
      "outputs": [
        {
          "data": {
            "text/plain": [
              "5.0"
            ]
          },
          "execution_count": 113,
          "metadata": {},
          "output_type": "execute_result"
        }
      ],
      "source": [
        "arr.mean()"
      ]
    },
    {
      "cell_type": "code",
      "execution_count": null,
      "id": "231381ff-d41d-4a3b-8bc0-7d94832ccc55",
      "metadata": {
        "id": "231381ff-d41d-4a3b-8bc0-7d94832ccc55",
        "outputId": "fb21046d-48ea-4778-cdc1-2b2cf5d17315"
      },
      "outputs": [
        {
          "data": {
            "text/plain": [
              "2.581988897471611"
            ]
          },
          "execution_count": 117,
          "metadata": {},
          "output_type": "execute_result"
        }
      ],
      "source": [
        "arr.std()"
      ]
    },
    {
      "cell_type": "code",
      "execution_count": null,
      "id": "c4d17dd3-adab-42cc-9569-61dcae8a37be",
      "metadata": {
        "id": "c4d17dd3-adab-42cc-9569-61dcae8a37be",
        "outputId": "189c1411-9590-47ee-ee57-0759f493f210"
      },
      "outputs": [
        {
          "data": {
            "text/plain": [
              "8"
            ]
          },
          "execution_count": 119,
          "metadata": {},
          "output_type": "execute_result"
        }
      ],
      "source": [
        "arr.argmax()"
      ]
    },
    {
      "cell_type": "code",
      "execution_count": 20,
      "id": "9c8d1e42-6f79-4e34-a91c-be503c7ed31f",
      "metadata": {
        "id": "9c8d1e42-6f79-4e34-a91c-be503c7ed31f",
        "outputId": "e004922c-bd24-4258-8d5a-c28bf92d17e1",
        "colab": {
          "base_uri": "https://localhost:8080/"
        }
      },
      "outputs": [
        {
          "output_type": "execute_result",
          "data": {
            "text/plain": [
              "np.int64(0)"
            ]
          },
          "metadata": {},
          "execution_count": 20
        }
      ],
      "source": [
        "arr.argmin()"
      ]
    },
    {
      "cell_type": "markdown",
      "id": "2e8a12ca-e6cc-4047-a96e-3f43d547602c",
      "metadata": {
        "id": "2e8a12ca-e6cc-4047-a96e-3f43d547602c"
      },
      "source": [
        "**Reshaping and resizing**"
      ]
    },
    {
      "cell_type": "code",
      "execution_count": 21,
      "id": "d6c0756f-f7ba-482c-8ccd-2ebbcaf688ce",
      "metadata": {
        "id": "d6c0756f-f7ba-482c-8ccd-2ebbcaf688ce",
        "outputId": "4f276029-58ab-4d03-99ae-36a3189fdee6",
        "colab": {
          "base_uri": "https://localhost:8080/"
        }
      },
      "outputs": [
        {
          "output_type": "execute_result",
          "data": {
            "text/plain": [
              "array([ 1,  2,  3,  4,  5,  6,  7,  8,  9, 10, 11, 12, 13, 14, 15, 16, 17,\n",
              "       18, 19, 20, 21, 22, 23, 24, 25, 26, 27, 28, 29, 30])"
            ]
          },
          "metadata": {},
          "execution_count": 21
        }
      ],
      "source": [
        "arr = np.arange(1,31)\n",
        "arr"
      ]
    },
    {
      "cell_type": "code",
      "execution_count": 24,
      "id": "05205a11-831c-4498-bb09-b191ba9f0407",
      "metadata": {
        "id": "05205a11-831c-4498-bb09-b191ba9f0407"
      },
      "outputs": [],
      "source": [
        "arr = arr.reshape(15,2)"
      ]
    },
    {
      "cell_type": "code",
      "execution_count": 25,
      "id": "e1388460-14d6-4905-bcfa-12a593c266ef",
      "metadata": {
        "scrolled": true,
        "id": "e1388460-14d6-4905-bcfa-12a593c266ef",
        "outputId": "bb863881-50ea-46e8-dd57-b59e45f3a21b",
        "colab": {
          "base_uri": "https://localhost:8080/"
        }
      },
      "outputs": [
        {
          "output_type": "execute_result",
          "data": {
            "text/plain": [
              "array([[ 1,  2],\n",
              "       [ 3,  4],\n",
              "       [ 5,  6],\n",
              "       [ 7,  8],\n",
              "       [ 9, 10],\n",
              "       [11, 12],\n",
              "       [13, 14],\n",
              "       [15, 16],\n",
              "       [17, 18],\n",
              "       [19, 20],\n",
              "       [21, 22],\n",
              "       [23, 24],\n",
              "       [25, 26],\n",
              "       [27, 28],\n",
              "       [29, 30]])"
            ]
          },
          "metadata": {},
          "execution_count": 25
        }
      ],
      "source": [
        "arr"
      ]
    },
    {
      "cell_type": "code",
      "execution_count": null,
      "id": "23a8b5e2-e417-43da-a2a8-ba2b141768d9",
      "metadata": {
        "id": "23a8b5e2-e417-43da-a2a8-ba2b141768d9"
      },
      "outputs": [],
      "source": []
    }
  ],
  "metadata": {
    "kernelspec": {
      "display_name": "Python [conda env:base] *",
      "language": "python",
      "name": "conda-base-py"
    },
    "language_info": {
      "codemirror_mode": {
        "name": "ipython",
        "version": 3
      },
      "file_extension": ".py",
      "mimetype": "text/x-python",
      "name": "python",
      "nbconvert_exporter": "python",
      "pygments_lexer": "ipython3",
      "version": "3.12.7"
    },
    "colab": {
      "provenance": []
    }
  },
  "nbformat": 4,
  "nbformat_minor": 5
}